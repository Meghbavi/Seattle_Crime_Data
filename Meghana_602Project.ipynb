{
 "cells": [
  {
   "cell_type": "code",
   "execution_count": 1,
   "id": "460ba437",
   "metadata": {},
   "outputs": [],
   "source": [
    "import pandas as pd\n",
    "import numpy as np\n",
    "import matplotlib.pyplot as plt\n",
    "import seaborn as sns"
   ]
  },
  {
   "cell_type": "code",
   "execution_count": 2,
   "id": "0706e1ac",
   "metadata": {},
   "outputs": [
    {
     "data": {
      "text/html": [
       "<div>\n",
       "<style scoped>\n",
       "    .dataframe tbody tr th:only-of-type {\n",
       "        vertical-align: middle;\n",
       "    }\n",
       "\n",
       "    .dataframe tbody tr th {\n",
       "        vertical-align: top;\n",
       "    }\n",
       "\n",
       "    .dataframe thead th {\n",
       "        text-align: right;\n",
       "    }\n",
       "</style>\n",
       "<table border=\"1\" class=\"dataframe\">\n",
       "  <thead>\n",
       "    <tr style=\"text-align: right;\">\n",
       "      <th></th>\n",
       "      <th>Report Number</th>\n",
       "      <th>Offense ID</th>\n",
       "      <th>Offense Start DateTime</th>\n",
       "      <th>Offense End DateTime</th>\n",
       "      <th>Report DateTime</th>\n",
       "      <th>Group A B</th>\n",
       "      <th>Crime Against Category</th>\n",
       "      <th>Offense Parent Group</th>\n",
       "      <th>Offense</th>\n",
       "      <th>Offense Code</th>\n",
       "      <th>Precinct</th>\n",
       "      <th>Sector</th>\n",
       "      <th>Beat</th>\n",
       "      <th>MCPP</th>\n",
       "      <th>100 Block Address</th>\n",
       "      <th>Longitude</th>\n",
       "      <th>Latitude</th>\n",
       "    </tr>\n",
       "  </thead>\n",
       "  <tbody>\n",
       "    <tr>\n",
       "      <th>0</th>\n",
       "      <td>2020-044620</td>\n",
       "      <td>12605873663</td>\n",
       "      <td>02/05/2020 10:10:00 AM</td>\n",
       "      <td>NaN</td>\n",
       "      <td>02/05/2020 11:24:31 AM</td>\n",
       "      <td>A</td>\n",
       "      <td>SOCIETY</td>\n",
       "      <td>DRUG/NARCOTIC OFFENSES</td>\n",
       "      <td>Drug/Narcotic Violations</td>\n",
       "      <td>35A</td>\n",
       "      <td>W</td>\n",
       "      <td>Q</td>\n",
       "      <td>Q1</td>\n",
       "      <td>MAGNOLIA</td>\n",
       "      <td>32XX BLOCK OF 23RD AVE W</td>\n",
       "      <td>-122.385974</td>\n",
       "      <td>47.649387</td>\n",
       "    </tr>\n",
       "    <tr>\n",
       "      <th>1</th>\n",
       "      <td>2020-044452</td>\n",
       "      <td>12605598696</td>\n",
       "      <td>02/03/2020 08:00:00 AM</td>\n",
       "      <td>02/04/2020 08:00:00 AM</td>\n",
       "      <td>02/05/2020 10:06:28 AM</td>\n",
       "      <td>A</td>\n",
       "      <td>PROPERTY</td>\n",
       "      <td>LARCENY-THEFT</td>\n",
       "      <td>Theft of Motor Vehicle Parts or Accessories</td>\n",
       "      <td>23G</td>\n",
       "      <td>N</td>\n",
       "      <td>J</td>\n",
       "      <td>J3</td>\n",
       "      <td>ROOSEVELT/RAVENNA</td>\n",
       "      <td>63XX BLOCK OF 5TH AVE NE</td>\n",
       "      <td>-122.323399</td>\n",
       "      <td>47.675118</td>\n",
       "    </tr>\n",
       "    <tr>\n",
       "      <th>2</th>\n",
       "      <td>2020-044465</td>\n",
       "      <td>12605567653</td>\n",
       "      <td>02/02/2020 08:30:00 PM</td>\n",
       "      <td>02/02/2020 09:30:00 PM</td>\n",
       "      <td>02/05/2020 09:39:33 AM</td>\n",
       "      <td>A</td>\n",
       "      <td>PROPERTY</td>\n",
       "      <td>ROBBERY</td>\n",
       "      <td>Robbery</td>\n",
       "      <td>120</td>\n",
       "      <td>N</td>\n",
       "      <td>U</td>\n",
       "      <td>U3</td>\n",
       "      <td>ROOSEVELT/RAVENNA</td>\n",
       "      <td>26TH AVE NE / NE BLAKELEY ST</td>\n",
       "      <td>-122.299552</td>\n",
       "      <td>47.666384</td>\n",
       "    </tr>\n",
       "    <tr>\n",
       "      <th>3</th>\n",
       "      <td>2020-044225</td>\n",
       "      <td>12605174036</td>\n",
       "      <td>02/05/2020 01:17:00 AM</td>\n",
       "      <td>02/05/2020 02:21:00 AM</td>\n",
       "      <td>02/05/2020 03:30:55 AM</td>\n",
       "      <td>A</td>\n",
       "      <td>PROPERTY</td>\n",
       "      <td>DESTRUCTION/DAMAGE/VANDALISM OF PROPERTY</td>\n",
       "      <td>Destruction/Damage/Vandalism of Property</td>\n",
       "      <td>290</td>\n",
       "      <td>W</td>\n",
       "      <td>Q</td>\n",
       "      <td>Q1</td>\n",
       "      <td>MAGNOLIA</td>\n",
       "      <td>22XX BLOCK OF W RAYE ST</td>\n",
       "      <td>-122.384865</td>\n",
       "      <td>47.642927</td>\n",
       "    </tr>\n",
       "    <tr>\n",
       "      <th>4</th>\n",
       "      <td>2020-044076</td>\n",
       "      <td>12605081469</td>\n",
       "      <td>02/05/2020 12:51:21 AM</td>\n",
       "      <td>NaN</td>\n",
       "      <td>02/05/2020 12:51:31 AM</td>\n",
       "      <td>B</td>\n",
       "      <td>SOCIETY</td>\n",
       "      <td>DRIVING UNDER THE INFLUENCE</td>\n",
       "      <td>Driving Under the Influence</td>\n",
       "      <td>90D</td>\n",
       "      <td>N</td>\n",
       "      <td>B</td>\n",
       "      <td>B2</td>\n",
       "      <td>BALLARD SOUTH</td>\n",
       "      <td>NW 46TH ST / 8TH AVE NW</td>\n",
       "      <td>-122.366195</td>\n",
       "      <td>47.662193</td>\n",
       "    </tr>\n",
       "    <tr>\n",
       "      <th>5</th>\n",
       "      <td>2020-044142</td>\n",
       "      <td>12605077150</td>\n",
       "      <td>02/04/2020 10:59:00 PM</td>\n",
       "      <td>NaN</td>\n",
       "      <td>02/05/2020 12:45:08 AM</td>\n",
       "      <td>A</td>\n",
       "      <td>PROPERTY</td>\n",
       "      <td>LARCENY-THEFT</td>\n",
       "      <td>Shoplifting</td>\n",
       "      <td>23C</td>\n",
       "      <td>W</td>\n",
       "      <td>M</td>\n",
       "      <td>M1</td>\n",
       "      <td>DOWNTOWN COMMERCIAL</td>\n",
       "      <td>14XX BLOCK OF 2ND AVE</td>\n",
       "      <td>-122.338450</td>\n",
       "      <td>47.608789</td>\n",
       "    </tr>\n",
       "    <tr>\n",
       "      <th>6</th>\n",
       "      <td>2020-044104</td>\n",
       "      <td>12605029468</td>\n",
       "      <td>02/04/2020 08:30:00 PM</td>\n",
       "      <td>02/04/2020 08:45:00 PM</td>\n",
       "      <td>02/04/2020 11:31:52 PM</td>\n",
       "      <td>A</td>\n",
       "      <td>PROPERTY</td>\n",
       "      <td>DESTRUCTION/DAMAGE/VANDALISM OF PROPERTY</td>\n",
       "      <td>Destruction/Damage/Vandalism of Property</td>\n",
       "      <td>290</td>\n",
       "      <td>N</td>\n",
       "      <td>J</td>\n",
       "      <td>J3</td>\n",
       "      <td>PHINNEY RIDGE</td>\n",
       "      <td>71XX BLOCK OF GREENWOOD AVE N</td>\n",
       "      <td>-122.355309</td>\n",
       "      <td>47.680527</td>\n",
       "    </tr>\n",
       "    <tr>\n",
       "      <th>7</th>\n",
       "      <td>2020-043988</td>\n",
       "      <td>12604995759</td>\n",
       "      <td>02/04/2020 07:58:00 PM</td>\n",
       "      <td>NaN</td>\n",
       "      <td>02/04/2020 10:46:19 PM</td>\n",
       "      <td>A</td>\n",
       "      <td>PROPERTY</td>\n",
       "      <td>LARCENY-THEFT</td>\n",
       "      <td>Shoplifting</td>\n",
       "      <td>23C</td>\n",
       "      <td>SW</td>\n",
       "      <td>F</td>\n",
       "      <td>F2</td>\n",
       "      <td>ROXHILL/WESTWOOD/ARBOR HEIGHTS</td>\n",
       "      <td>26XX BLOCK OF SW BARTON ST</td>\n",
       "      <td>-122.367312</td>\n",
       "      <td>47.521028</td>\n",
       "    </tr>\n",
       "    <tr>\n",
       "      <th>8</th>\n",
       "      <td>2020-043928</td>\n",
       "      <td>12604963106</td>\n",
       "      <td>02/04/2020 07:01:00 PM</td>\n",
       "      <td>NaN</td>\n",
       "      <td>02/04/2020 09:59:07 PM</td>\n",
       "      <td>B</td>\n",
       "      <td>SOCIETY</td>\n",
       "      <td>DRIVING UNDER THE INFLUENCE</td>\n",
       "      <td>Driving Under the Influence</td>\n",
       "      <td>90D</td>\n",
       "      <td>N</td>\n",
       "      <td>L</td>\n",
       "      <td>L2</td>\n",
       "      <td>NORTHGATE</td>\n",
       "      <td>15TH AVE NE / NE 95TH ST</td>\n",
       "      <td>-122.312078</td>\n",
       "      <td>47.697616</td>\n",
       "    </tr>\n",
       "    <tr>\n",
       "      <th>9</th>\n",
       "      <td>2020-044065</td>\n",
       "      <td>12605008517</td>\n",
       "      <td>02/04/2020 09:00:00 PM</td>\n",
       "      <td>02/04/2020 09:15:00 PM</td>\n",
       "      <td>02/04/2020 09:47:32 PM</td>\n",
       "      <td>A</td>\n",
       "      <td>PROPERTY</td>\n",
       "      <td>LARCENY-THEFT</td>\n",
       "      <td>Theft From Motor Vehicle</td>\n",
       "      <td>23F</td>\n",
       "      <td>E</td>\n",
       "      <td>E</td>\n",
       "      <td>E2</td>\n",
       "      <td>CAPITOL HILL</td>\n",
       "      <td>15XX BLOCK OF 12TH AVE</td>\n",
       "      <td>-122.316845</td>\n",
       "      <td>47.614684</td>\n",
       "    </tr>\n",
       "    <tr>\n",
       "      <th>10</th>\n",
       "      <td>2020-044038</td>\n",
       "      <td>12604928711</td>\n",
       "      <td>02/04/2020 08:57:00 PM</td>\n",
       "      <td>NaN</td>\n",
       "      <td>02/04/2020 09:20:35 PM</td>\n",
       "      <td>A</td>\n",
       "      <td>PROPERTY</td>\n",
       "      <td>LARCENY-THEFT</td>\n",
       "      <td>Shoplifting</td>\n",
       "      <td>23C</td>\n",
       "      <td>E</td>\n",
       "      <td>E</td>\n",
       "      <td>E2</td>\n",
       "      <td>CAPITOL HILL</td>\n",
       "      <td>15XX BLOCK OF BROADWAY</td>\n",
       "      <td>-122.320790</td>\n",
       "      <td>47.614655</td>\n",
       "    </tr>\n",
       "    <tr>\n",
       "      <th>11</th>\n",
       "      <td>2020-043971</td>\n",
       "      <td>12604927228</td>\n",
       "      <td>02/04/2019 12:00:00 AM</td>\n",
       "      <td>02/04/2020 08:00:00 AM</td>\n",
       "      <td>02/04/2020 09:18:52 PM</td>\n",
       "      <td>A</td>\n",
       "      <td>PROPERTY</td>\n",
       "      <td>FRAUD OFFENSES</td>\n",
       "      <td>Wire Fraud</td>\n",
       "      <td>26E</td>\n",
       "      <td>N</td>\n",
       "      <td>U</td>\n",
       "      <td>U2</td>\n",
       "      <td>UNIVERSITY</td>\n",
       "      <td>45XX BLOCK OF 7TH AVE NE</td>\n",
       "      <td>-122.320720</td>\n",
       "      <td>47.662473</td>\n",
       "    </tr>\n",
       "    <tr>\n",
       "      <th>12</th>\n",
       "      <td>2020-043805</td>\n",
       "      <td>12604929082</td>\n",
       "      <td>01/30/2020 07:30:00 PM</td>\n",
       "      <td>NaN</td>\n",
       "      <td>02/04/2020 09:14:00 PM</td>\n",
       "      <td>A</td>\n",
       "      <td>PROPERTY</td>\n",
       "      <td>LARCENY-THEFT</td>\n",
       "      <td>Theft From Building</td>\n",
       "      <td>23D</td>\n",
       "      <td>S</td>\n",
       "      <td>R</td>\n",
       "      <td>R3</td>\n",
       "      <td>COLUMBIA CITY</td>\n",
       "      <td>NaN</td>\n",
       "      <td>0.000000</td>\n",
       "      <td>0.000000</td>\n",
       "    </tr>\n",
       "    <tr>\n",
       "      <th>13</th>\n",
       "      <td>2020-043805</td>\n",
       "      <td>12605193820</td>\n",
       "      <td>01/30/2020 07:30:00 PM</td>\n",
       "      <td>NaN</td>\n",
       "      <td>02/04/2020 09:14:00 PM</td>\n",
       "      <td>A</td>\n",
       "      <td>PERSON</td>\n",
       "      <td>KIDNAPPING/ABDUCTION</td>\n",
       "      <td>Kidnapping/Abduction</td>\n",
       "      <td>100</td>\n",
       "      <td>S</td>\n",
       "      <td>R</td>\n",
       "      <td>R3</td>\n",
       "      <td>COLUMBIA CITY</td>\n",
       "      <td>NaN</td>\n",
       "      <td>0.000000</td>\n",
       "      <td>0.000000</td>\n",
       "    </tr>\n",
       "    <tr>\n",
       "      <th>14</th>\n",
       "      <td>2020-043518</td>\n",
       "      <td>12604909238</td>\n",
       "      <td>02/04/2020 07:30:00 AM</td>\n",
       "      <td>02/04/2020 10:00:00 AM</td>\n",
       "      <td>02/04/2020 08:59:01 PM</td>\n",
       "      <td>A</td>\n",
       "      <td>PROPERTY</td>\n",
       "      <td>LARCENY-THEFT</td>\n",
       "      <td>Theft From Motor Vehicle</td>\n",
       "      <td>23F</td>\n",
       "      <td>S</td>\n",
       "      <td>R</td>\n",
       "      <td>R1</td>\n",
       "      <td>NORTH BEACON HILL</td>\n",
       "      <td>19XX BLOCK OF 13TH AVE S</td>\n",
       "      <td>-122.315977</td>\n",
       "      <td>47.585956</td>\n",
       "    </tr>\n",
       "    <tr>\n",
       "      <th>15</th>\n",
       "      <td>2020-044000</td>\n",
       "      <td>12604889529</td>\n",
       "      <td>02/04/2020 08:10:00 PM</td>\n",
       "      <td>02/04/2020 08:39:00 PM</td>\n",
       "      <td>02/04/2020 08:30:24 PM</td>\n",
       "      <td>A</td>\n",
       "      <td>PROPERTY</td>\n",
       "      <td>COUNTERFEITING/FORGERY</td>\n",
       "      <td>Counterfeiting/Forgery</td>\n",
       "      <td>250</td>\n",
       "      <td>E</td>\n",
       "      <td>E</td>\n",
       "      <td>E1</td>\n",
       "      <td>CAPITOL HILL</td>\n",
       "      <td>1XX BLOCK OF BROADWAY E</td>\n",
       "      <td>-122.320864</td>\n",
       "      <td>47.619324</td>\n",
       "    </tr>\n",
       "    <tr>\n",
       "      <th>16</th>\n",
       "      <td>2020-043979</td>\n",
       "      <td>12604874045</td>\n",
       "      <td>02/04/2020 07:30:00 PM</td>\n",
       "      <td>NaN</td>\n",
       "      <td>02/04/2020 08:13:42 PM</td>\n",
       "      <td>A</td>\n",
       "      <td>PROPERTY</td>\n",
       "      <td>LARCENY-THEFT</td>\n",
       "      <td>Theft From Motor Vehicle</td>\n",
       "      <td>23F</td>\n",
       "      <td>E</td>\n",
       "      <td>E</td>\n",
       "      <td>E2</td>\n",
       "      <td>FIRST HILL</td>\n",
       "      <td>E SPRING ST / 12TH AVE</td>\n",
       "      <td>-122.316779</td>\n",
       "      <td>47.611563</td>\n",
       "    </tr>\n",
       "    <tr>\n",
       "      <th>17</th>\n",
       "      <td>2020-043804</td>\n",
       "      <td>12604760012</td>\n",
       "      <td>01/31/2020 11:00:00 AM</td>\n",
       "      <td>02/04/2020 04:00:00 PM</td>\n",
       "      <td>02/04/2020 06:04:43 PM</td>\n",
       "      <td>A</td>\n",
       "      <td>PROPERTY</td>\n",
       "      <td>DESTRUCTION/DAMAGE/VANDALISM OF PROPERTY</td>\n",
       "      <td>Destruction/Damage/Vandalism of Property</td>\n",
       "      <td>290</td>\n",
       "      <td>S</td>\n",
       "      <td>O</td>\n",
       "      <td>O3</td>\n",
       "      <td>GEORGETOWN</td>\n",
       "      <td>67XX BLOCK OF CORSON AVE S</td>\n",
       "      <td>-122.322909</td>\n",
       "      <td>47.542941</td>\n",
       "    </tr>\n",
       "    <tr>\n",
       "      <th>18</th>\n",
       "      <td>2020-043679</td>\n",
       "      <td>12604768348</td>\n",
       "      <td>02/04/2020 03:28:00 PM</td>\n",
       "      <td>NaN</td>\n",
       "      <td>02/04/2020 05:53:30 PM</td>\n",
       "      <td>A</td>\n",
       "      <td>PROPERTY</td>\n",
       "      <td>LARCENY-THEFT</td>\n",
       "      <td>Shoplifting</td>\n",
       "      <td>23C</td>\n",
       "      <td>N</td>\n",
       "      <td>U</td>\n",
       "      <td>U2</td>\n",
       "      <td>UNIVERSITY</td>\n",
       "      <td>45XX BLOCK OF UNIVERSITY WAY NE</td>\n",
       "      <td>-122.313116</td>\n",
       "      <td>47.662181</td>\n",
       "    </tr>\n",
       "    <tr>\n",
       "      <th>19</th>\n",
       "      <td>2020-043813</td>\n",
       "      <td>12604748428</td>\n",
       "      <td>02/03/2020 08:00:00 AM</td>\n",
       "      <td>02/04/2020 04:30:00 PM</td>\n",
       "      <td>02/04/2020 05:51:43 PM</td>\n",
       "      <td>A</td>\n",
       "      <td>PROPERTY</td>\n",
       "      <td>LARCENY-THEFT</td>\n",
       "      <td>Theft From Motor Vehicle</td>\n",
       "      <td>23F</td>\n",
       "      <td>W</td>\n",
       "      <td>Q</td>\n",
       "      <td>Q3</td>\n",
       "      <td>QUEEN ANNE</td>\n",
       "      <td>5XX BLOCK OF 4TH AVE W</td>\n",
       "      <td>-122.361939</td>\n",
       "      <td>47.623950</td>\n",
       "    </tr>\n",
       "    <tr>\n",
       "      <th>20</th>\n",
       "      <td>2020-043790</td>\n",
       "      <td>12604733588</td>\n",
       "      <td>02/04/2020 04:40:00 PM</td>\n",
       "      <td>02/04/2020 04:44:00 PM</td>\n",
       "      <td>02/04/2020 05:24:12 PM</td>\n",
       "      <td>A</td>\n",
       "      <td>PROPERTY</td>\n",
       "      <td>DESTRUCTION/DAMAGE/VANDALISM OF PROPERTY</td>\n",
       "      <td>Destruction/Damage/Vandalism of Property</td>\n",
       "      <td>290</td>\n",
       "      <td>S</td>\n",
       "      <td>O</td>\n",
       "      <td>O2</td>\n",
       "      <td>SODO</td>\n",
       "      <td>S SPOKANE ST / 2ND AVE S</td>\n",
       "      <td>-122.332007</td>\n",
       "      <td>47.571406</td>\n",
       "    </tr>\n",
       "    <tr>\n",
       "      <th>21</th>\n",
       "      <td>2020-043631</td>\n",
       "      <td>12604680236</td>\n",
       "      <td>02/04/2020 03:00:00 PM</td>\n",
       "      <td>NaN</td>\n",
       "      <td>02/04/2020 04:48:31 PM</td>\n",
       "      <td>A</td>\n",
       "      <td>SOCIETY</td>\n",
       "      <td>DRUG/NARCOTIC OFFENSES</td>\n",
       "      <td>Drug/Narcotic Violations</td>\n",
       "      <td>35A</td>\n",
       "      <td>W</td>\n",
       "      <td>K</td>\n",
       "      <td>K2</td>\n",
       "      <td>DOWNTOWN COMMERCIAL</td>\n",
       "      <td>4XX BLOCK OF 3RD AVE</td>\n",
       "      <td>-122.330510</td>\n",
       "      <td>47.601886</td>\n",
       "    </tr>\n",
       "    <tr>\n",
       "      <th>22</th>\n",
       "      <td>2020-043743</td>\n",
       "      <td>12604667448</td>\n",
       "      <td>02/03/2020 09:00:00 PM</td>\n",
       "      <td>02/04/2020 07:45:00 AM</td>\n",
       "      <td>02/04/2020 04:33:19 PM</td>\n",
       "      <td>A</td>\n",
       "      <td>PROPERTY</td>\n",
       "      <td>LARCENY-THEFT</td>\n",
       "      <td>All Other Larceny</td>\n",
       "      <td>23H</td>\n",
       "      <td>W</td>\n",
       "      <td>Q</td>\n",
       "      <td>Q3</td>\n",
       "      <td>QUEEN ANNE</td>\n",
       "      <td>1XX BLOCK OF DENNY WAY</td>\n",
       "      <td>-122.353751</td>\n",
       "      <td>47.618596</td>\n",
       "    </tr>\n",
       "    <tr>\n",
       "      <th>23</th>\n",
       "      <td>2020-043577</td>\n",
       "      <td>12604662310</td>\n",
       "      <td>01/29/2020 06:00:00 PM</td>\n",
       "      <td>01/30/2020 06:00:00 AM</td>\n",
       "      <td>02/04/2020 04:28:43 PM</td>\n",
       "      <td>A</td>\n",
       "      <td>PROPERTY</td>\n",
       "      <td>LARCENY-THEFT</td>\n",
       "      <td>Theft From Motor Vehicle</td>\n",
       "      <td>23F</td>\n",
       "      <td>W</td>\n",
       "      <td>Q</td>\n",
       "      <td>Q2</td>\n",
       "      <td>QUEEN ANNE</td>\n",
       "      <td>13XX BLOCK OF 4TH AVE W</td>\n",
       "      <td>-122.361805</td>\n",
       "      <td>47.630894</td>\n",
       "    </tr>\n",
       "    <tr>\n",
       "      <th>24</th>\n",
       "      <td>2020-043658</td>\n",
       "      <td>12604701795</td>\n",
       "      <td>02/02/2020 12:00:00 AM</td>\n",
       "      <td>02/04/2020 12:00:00 AM</td>\n",
       "      <td>02/04/2020 04:06:13 PM</td>\n",
       "      <td>A</td>\n",
       "      <td>SOCIETY</td>\n",
       "      <td>PORNOGRAPHY/OBSCENE MATERIAL</td>\n",
       "      <td>Pornography/Obscene Material</td>\n",
       "      <td>370</td>\n",
       "      <td>E</td>\n",
       "      <td>C</td>\n",
       "      <td>C3</td>\n",
       "      <td>CENTRAL AREA/SQUIRE PARK</td>\n",
       "      <td>11XX BLOCK OF 18TH AVE</td>\n",
       "      <td>-122.308864</td>\n",
       "      <td>47.612219</td>\n",
       "    </tr>\n",
       "  </tbody>\n",
       "</table>\n",
       "</div>"
      ],
      "text/plain": [
       "   Report Number   Offense ID  Offense Start DateTime    Offense End DateTime  \\\n",
       "0    2020-044620  12605873663  02/05/2020 10:10:00 AM                     NaN   \n",
       "1    2020-044452  12605598696  02/03/2020 08:00:00 AM  02/04/2020 08:00:00 AM   \n",
       "2    2020-044465  12605567653  02/02/2020 08:30:00 PM  02/02/2020 09:30:00 PM   \n",
       "3    2020-044225  12605174036  02/05/2020 01:17:00 AM  02/05/2020 02:21:00 AM   \n",
       "4    2020-044076  12605081469  02/05/2020 12:51:21 AM                     NaN   \n",
       "5    2020-044142  12605077150  02/04/2020 10:59:00 PM                     NaN   \n",
       "6    2020-044104  12605029468  02/04/2020 08:30:00 PM  02/04/2020 08:45:00 PM   \n",
       "7    2020-043988  12604995759  02/04/2020 07:58:00 PM                     NaN   \n",
       "8    2020-043928  12604963106  02/04/2020 07:01:00 PM                     NaN   \n",
       "9    2020-044065  12605008517  02/04/2020 09:00:00 PM  02/04/2020 09:15:00 PM   \n",
       "10   2020-044038  12604928711  02/04/2020 08:57:00 PM                     NaN   \n",
       "11   2020-043971  12604927228  02/04/2019 12:00:00 AM  02/04/2020 08:00:00 AM   \n",
       "12   2020-043805  12604929082  01/30/2020 07:30:00 PM                     NaN   \n",
       "13   2020-043805  12605193820  01/30/2020 07:30:00 PM                     NaN   \n",
       "14   2020-043518  12604909238  02/04/2020 07:30:00 AM  02/04/2020 10:00:00 AM   \n",
       "15   2020-044000  12604889529  02/04/2020 08:10:00 PM  02/04/2020 08:39:00 PM   \n",
       "16   2020-043979  12604874045  02/04/2020 07:30:00 PM                     NaN   \n",
       "17   2020-043804  12604760012  01/31/2020 11:00:00 AM  02/04/2020 04:00:00 PM   \n",
       "18   2020-043679  12604768348  02/04/2020 03:28:00 PM                     NaN   \n",
       "19   2020-043813  12604748428  02/03/2020 08:00:00 AM  02/04/2020 04:30:00 PM   \n",
       "20   2020-043790  12604733588  02/04/2020 04:40:00 PM  02/04/2020 04:44:00 PM   \n",
       "21   2020-043631  12604680236  02/04/2020 03:00:00 PM                     NaN   \n",
       "22   2020-043743  12604667448  02/03/2020 09:00:00 PM  02/04/2020 07:45:00 AM   \n",
       "23   2020-043577  12604662310  01/29/2020 06:00:00 PM  01/30/2020 06:00:00 AM   \n",
       "24   2020-043658  12604701795  02/02/2020 12:00:00 AM  02/04/2020 12:00:00 AM   \n",
       "\n",
       "           Report DateTime Group A B Crime Against Category  \\\n",
       "0   02/05/2020 11:24:31 AM         A                SOCIETY   \n",
       "1   02/05/2020 10:06:28 AM         A               PROPERTY   \n",
       "2   02/05/2020 09:39:33 AM         A               PROPERTY   \n",
       "3   02/05/2020 03:30:55 AM         A               PROPERTY   \n",
       "4   02/05/2020 12:51:31 AM         B                SOCIETY   \n",
       "5   02/05/2020 12:45:08 AM         A               PROPERTY   \n",
       "6   02/04/2020 11:31:52 PM         A               PROPERTY   \n",
       "7   02/04/2020 10:46:19 PM         A               PROPERTY   \n",
       "8   02/04/2020 09:59:07 PM         B                SOCIETY   \n",
       "9   02/04/2020 09:47:32 PM         A               PROPERTY   \n",
       "10  02/04/2020 09:20:35 PM         A               PROPERTY   \n",
       "11  02/04/2020 09:18:52 PM         A               PROPERTY   \n",
       "12  02/04/2020 09:14:00 PM         A               PROPERTY   \n",
       "13  02/04/2020 09:14:00 PM         A                 PERSON   \n",
       "14  02/04/2020 08:59:01 PM         A               PROPERTY   \n",
       "15  02/04/2020 08:30:24 PM         A               PROPERTY   \n",
       "16  02/04/2020 08:13:42 PM         A               PROPERTY   \n",
       "17  02/04/2020 06:04:43 PM         A               PROPERTY   \n",
       "18  02/04/2020 05:53:30 PM         A               PROPERTY   \n",
       "19  02/04/2020 05:51:43 PM         A               PROPERTY   \n",
       "20  02/04/2020 05:24:12 PM         A               PROPERTY   \n",
       "21  02/04/2020 04:48:31 PM         A                SOCIETY   \n",
       "22  02/04/2020 04:33:19 PM         A               PROPERTY   \n",
       "23  02/04/2020 04:28:43 PM         A               PROPERTY   \n",
       "24  02/04/2020 04:06:13 PM         A                SOCIETY   \n",
       "\n",
       "                        Offense Parent Group  \\\n",
       "0                     DRUG/NARCOTIC OFFENSES   \n",
       "1                              LARCENY-THEFT   \n",
       "2                                    ROBBERY   \n",
       "3   DESTRUCTION/DAMAGE/VANDALISM OF PROPERTY   \n",
       "4                DRIVING UNDER THE INFLUENCE   \n",
       "5                              LARCENY-THEFT   \n",
       "6   DESTRUCTION/DAMAGE/VANDALISM OF PROPERTY   \n",
       "7                              LARCENY-THEFT   \n",
       "8                DRIVING UNDER THE INFLUENCE   \n",
       "9                              LARCENY-THEFT   \n",
       "10                             LARCENY-THEFT   \n",
       "11                            FRAUD OFFENSES   \n",
       "12                             LARCENY-THEFT   \n",
       "13                      KIDNAPPING/ABDUCTION   \n",
       "14                             LARCENY-THEFT   \n",
       "15                    COUNTERFEITING/FORGERY   \n",
       "16                             LARCENY-THEFT   \n",
       "17  DESTRUCTION/DAMAGE/VANDALISM OF PROPERTY   \n",
       "18                             LARCENY-THEFT   \n",
       "19                             LARCENY-THEFT   \n",
       "20  DESTRUCTION/DAMAGE/VANDALISM OF PROPERTY   \n",
       "21                    DRUG/NARCOTIC OFFENSES   \n",
       "22                             LARCENY-THEFT   \n",
       "23                             LARCENY-THEFT   \n",
       "24              PORNOGRAPHY/OBSCENE MATERIAL   \n",
       "\n",
       "                                        Offense Offense Code Precinct Sector  \\\n",
       "0                      Drug/Narcotic Violations          35A        W      Q   \n",
       "1   Theft of Motor Vehicle Parts or Accessories          23G        N      J   \n",
       "2                                       Robbery          120        N      U   \n",
       "3      Destruction/Damage/Vandalism of Property          290        W      Q   \n",
       "4                   Driving Under the Influence          90D        N      B   \n",
       "5                                   Shoplifting          23C        W      M   \n",
       "6      Destruction/Damage/Vandalism of Property          290        N      J   \n",
       "7                                   Shoplifting          23C       SW      F   \n",
       "8                   Driving Under the Influence          90D        N      L   \n",
       "9                      Theft From Motor Vehicle          23F        E      E   \n",
       "10                                  Shoplifting          23C        E      E   \n",
       "11                                   Wire Fraud          26E        N      U   \n",
       "12                          Theft From Building          23D        S      R   \n",
       "13                         Kidnapping/Abduction          100        S      R   \n",
       "14                     Theft From Motor Vehicle          23F        S      R   \n",
       "15                       Counterfeiting/Forgery          250        E      E   \n",
       "16                     Theft From Motor Vehicle          23F        E      E   \n",
       "17     Destruction/Damage/Vandalism of Property          290        S      O   \n",
       "18                                  Shoplifting          23C        N      U   \n",
       "19                     Theft From Motor Vehicle          23F        W      Q   \n",
       "20     Destruction/Damage/Vandalism of Property          290        S      O   \n",
       "21                     Drug/Narcotic Violations          35A        W      K   \n",
       "22                            All Other Larceny          23H        W      Q   \n",
       "23                     Theft From Motor Vehicle          23F        W      Q   \n",
       "24                 Pornography/Obscene Material          370        E      C   \n",
       "\n",
       "   Beat                            MCPP                100 Block Address  \\\n",
       "0    Q1                        MAGNOLIA         32XX BLOCK OF 23RD AVE W   \n",
       "1    J3               ROOSEVELT/RAVENNA         63XX BLOCK OF 5TH AVE NE   \n",
       "2    U3               ROOSEVELT/RAVENNA     26TH AVE NE / NE BLAKELEY ST   \n",
       "3    Q1                        MAGNOLIA          22XX BLOCK OF W RAYE ST   \n",
       "4    B2                   BALLARD SOUTH          NW 46TH ST / 8TH AVE NW   \n",
       "5    M1             DOWNTOWN COMMERCIAL            14XX BLOCK OF 2ND AVE   \n",
       "6    J3                   PHINNEY RIDGE    71XX BLOCK OF GREENWOOD AVE N   \n",
       "7    F2  ROXHILL/WESTWOOD/ARBOR HEIGHTS       26XX BLOCK OF SW BARTON ST   \n",
       "8    L2                       NORTHGATE         15TH AVE NE / NE 95TH ST   \n",
       "9    E2                    CAPITOL HILL           15XX BLOCK OF 12TH AVE   \n",
       "10   E2                    CAPITOL HILL           15XX BLOCK OF BROADWAY   \n",
       "11   U2                      UNIVERSITY         45XX BLOCK OF 7TH AVE NE   \n",
       "12   R3                   COLUMBIA CITY                              NaN   \n",
       "13   R3                   COLUMBIA CITY                              NaN   \n",
       "14   R1               NORTH BEACON HILL         19XX BLOCK OF 13TH AVE S   \n",
       "15   E1                    CAPITOL HILL          1XX BLOCK OF BROADWAY E   \n",
       "16   E2                      FIRST HILL           E SPRING ST / 12TH AVE   \n",
       "17   O3                      GEORGETOWN       67XX BLOCK OF CORSON AVE S   \n",
       "18   U2                      UNIVERSITY  45XX BLOCK OF UNIVERSITY WAY NE   \n",
       "19   Q3                      QUEEN ANNE           5XX BLOCK OF 4TH AVE W   \n",
       "20   O2                            SODO         S SPOKANE ST / 2ND AVE S   \n",
       "21   K2             DOWNTOWN COMMERCIAL             4XX BLOCK OF 3RD AVE   \n",
       "22   Q3                      QUEEN ANNE           1XX BLOCK OF DENNY WAY   \n",
       "23   Q2                      QUEEN ANNE          13XX BLOCK OF 4TH AVE W   \n",
       "24   C3        CENTRAL AREA/SQUIRE PARK           11XX BLOCK OF 18TH AVE   \n",
       "\n",
       "     Longitude   Latitude  \n",
       "0  -122.385974  47.649387  \n",
       "1  -122.323399  47.675118  \n",
       "2  -122.299552  47.666384  \n",
       "3  -122.384865  47.642927  \n",
       "4  -122.366195  47.662193  \n",
       "5  -122.338450  47.608789  \n",
       "6  -122.355309  47.680527  \n",
       "7  -122.367312  47.521028  \n",
       "8  -122.312078  47.697616  \n",
       "9  -122.316845  47.614684  \n",
       "10 -122.320790  47.614655  \n",
       "11 -122.320720  47.662473  \n",
       "12    0.000000   0.000000  \n",
       "13    0.000000   0.000000  \n",
       "14 -122.315977  47.585956  \n",
       "15 -122.320864  47.619324  \n",
       "16 -122.316779  47.611563  \n",
       "17 -122.322909  47.542941  \n",
       "18 -122.313116  47.662181  \n",
       "19 -122.361939  47.623950  \n",
       "20 -122.332007  47.571406  \n",
       "21 -122.330510  47.601886  \n",
       "22 -122.353751  47.618596  \n",
       "23 -122.361805  47.630894  \n",
       "24 -122.308864  47.612219  "
      ]
     },
     "execution_count": 2,
     "metadata": {},
     "output_type": "execute_result"
    }
   ],
   "source": [
    "data=pd.read_csv('CrimeData.csv')\n",
    "data.head(25)"
   ]
  },
  {
   "cell_type": "code",
   "execution_count": 3,
   "id": "0dc660b1",
   "metadata": {},
   "outputs": [
    {
     "name": "stdout",
     "output_type": "stream",
     "text": [
      "<class 'pandas.core.frame.DataFrame'>\n",
      "RangeIndex: 970938 entries, 0 to 970937\n",
      "Data columns (total 17 columns):\n",
      " #   Column                  Non-Null Count   Dtype  \n",
      "---  ------                  --------------   -----  \n",
      " 0   Report Number           970938 non-null  object \n",
      " 1   Offense ID              970938 non-null  int64  \n",
      " 2   Offense Start DateTime  969962 non-null  object \n",
      " 3   Offense End DateTime    537166 non-null  object \n",
      " 4   Report DateTime         970938 non-null  object \n",
      " 5   Group A B               970938 non-null  object \n",
      " 6   Crime Against Category  970938 non-null  object \n",
      " 7   Offense Parent Group    970938 non-null  object \n",
      " 8   Offense                 970938 non-null  object \n",
      " 9   Offense Code            970938 non-null  object \n",
      " 10  Precinct                970934 non-null  object \n",
      " 11  Sector                  970936 non-null  object \n",
      " 12  Beat                    970936 non-null  object \n",
      " 13  MCPP                    970938 non-null  object \n",
      " 14  100 Block Address       932129 non-null  object \n",
      " 15  Longitude               970938 non-null  float64\n",
      " 16  Latitude                970938 non-null  float64\n",
      "dtypes: float64(2), int64(1), object(14)\n",
      "memory usage: 125.9+ MB\n"
     ]
    }
   ],
   "source": [
    "data.info()"
   ]
  },
  {
   "cell_type": "markdown",
   "id": "d69d7074",
   "metadata": {},
   "source": [
    "# Changing the column names, if there are any spaces replacing it with underscore and changing from uppercase to lowercase for easy understanding."
   ]
  },
  {
   "cell_type": "code",
   "execution_count": 4,
   "id": "c10d70be",
   "metadata": {},
   "outputs": [],
   "source": [
    "data.columns = data.columns.str.replace(\" \", \"_\")\n",
    "\n",
    "# strip any invisible white spaces\n",
    "data.columns = data.columns.str.strip()\n",
    "\n",
    "# Set all columns names to lower case\n",
    "data.columns = data.columns.str.lower()"
   ]
  },
  {
   "cell_type": "markdown",
   "id": "a82d448e",
   "metadata": {},
   "source": [
    "# Converting the datatypes of datetime columns from string/object to datetime"
   ]
  },
  {
   "cell_type": "code",
   "execution_count": 5,
   "id": "718215cc",
   "metadata": {},
   "outputs": [],
   "source": [
    "data['offense_start_datetime']=pd.to_datetime(data['offense_start_datetime'])\n",
    "data['offense_end_datetime']=pd.to_datetime(data['offense_end_datetime'],errors = 'coerce')\n",
    "data['report_datetime']=pd.to_datetime(data['report_datetime'])\n"
   ]
  },
  {
   "cell_type": "code",
   "execution_count": 6,
   "id": "07d5dac2",
   "metadata": {},
   "outputs": [
    {
     "name": "stdout",
     "output_type": "stream",
     "text": [
      "<class 'pandas.core.frame.DataFrame'>\n",
      "RangeIndex: 970938 entries, 0 to 970937\n",
      "Data columns (total 17 columns):\n",
      " #   Column                  Non-Null Count   Dtype         \n",
      "---  ------                  --------------   -----         \n",
      " 0   report_number           970938 non-null  object        \n",
      " 1   offense_id              970938 non-null  int64         \n",
      " 2   offense_start_datetime  969962 non-null  datetime64[ns]\n",
      " 3   offense_end_datetime    537164 non-null  datetime64[ns]\n",
      " 4   report_datetime         970938 non-null  datetime64[ns]\n",
      " 5   group_a_b               970938 non-null  object        \n",
      " 6   crime_against_category  970938 non-null  object        \n",
      " 7   offense_parent_group    970938 non-null  object        \n",
      " 8   offense                 970938 non-null  object        \n",
      " 9   offense_code            970938 non-null  object        \n",
      " 10  precinct                970934 non-null  object        \n",
      " 11  sector                  970936 non-null  object        \n",
      " 12  beat                    970936 non-null  object        \n",
      " 13  mcpp                    970938 non-null  object        \n",
      " 14  100_block_address       932129 non-null  object        \n",
      " 15  longitude               970938 non-null  float64       \n",
      " 16  latitude                970938 non-null  float64       \n",
      "dtypes: datetime64[ns](3), float64(2), int64(1), object(11)\n",
      "memory usage: 125.9+ MB\n"
     ]
    }
   ],
   "source": [
    "data.info()"
   ]
  },
  {
   "cell_type": "markdown",
   "id": "3a0b1c9f",
   "metadata": {},
   "source": [
    "# Dropping the uneccesary columns and columns which represent same data in multiple columns"
   ]
  },
  {
   "cell_type": "code",
   "execution_count": 7,
   "id": "aa7d9ab5",
   "metadata": {},
   "outputs": [],
   "source": [
    "drop_columns=['offense','beat','longitude','latitude']\n",
    "data=data.drop(drop_columns,axis=1)"
   ]
  },
  {
   "cell_type": "markdown",
   "id": "c1e6601f",
   "metadata": {},
   "source": [
    "# Removing all the duplicates if any present"
   ]
  },
  {
   "cell_type": "code",
   "execution_count": 8,
   "id": "1aff5416",
   "metadata": {},
   "outputs": [],
   "source": [
    "data=data.drop_duplicates(keep='first')"
   ]
  },
  {
   "cell_type": "markdown",
   "id": "6b18b12d",
   "metadata": {},
   "source": [
    "# NUMBER OF COLUMNS"
   ]
  },
  {
   "cell_type": "code",
   "execution_count": 9,
   "id": "1f938598",
   "metadata": {},
   "outputs": [
    {
     "data": {
      "text/plain": [
       "13"
      ]
     },
     "execution_count": 9,
     "metadata": {},
     "output_type": "execute_result"
    }
   ],
   "source": [
    "#checking the count of columns\n",
    "len(data.columns)"
   ]
  },
  {
   "cell_type": "markdown",
   "id": "81d5deae",
   "metadata": {},
   "source": [
    "# NUMBERS OF ROWS"
   ]
  },
  {
   "cell_type": "code",
   "execution_count": 10,
   "id": "3204f720",
   "metadata": {},
   "outputs": [
    {
     "data": {
      "text/plain": [
       "970938"
      ]
     },
     "execution_count": 10,
     "metadata": {},
     "output_type": "execute_result"
    }
   ],
   "source": [
    "#checking the number of rows\n",
    "len(data)"
   ]
  },
  {
   "cell_type": "markdown",
   "id": "61a3668d",
   "metadata": {},
   "source": [
    "# Retrieving the year and column from offense start time as a new column in order to perform furthur operations on the data."
   ]
  },
  {
   "cell_type": "code",
   "execution_count": 12,
   "id": "75770df6",
   "metadata": {},
   "outputs": [],
   "source": [
    "data['year'] = data.offense_start_datetime.dt.year\n",
    "data['hour'] = data['offense_start_datetime'].dt.hour"
   ]
  },
  {
   "cell_type": "markdown",
   "id": "3560d7e5",
   "metadata": {},
   "source": [
    "# Converting the columns from float to int"
   ]
  },
  {
   "cell_type": "code",
   "execution_count": 13,
   "id": "8f15834d",
   "metadata": {},
   "outputs": [],
   "source": [
    "data['year'] = data['year'].astype('Int64')\n",
    "data['hour'] = data['hour'].astype('Int64')\n",
    "\n"
   ]
  },
  {
   "cell_type": "code",
   "execution_count": 14,
   "id": "cd94539c",
   "metadata": {},
   "outputs": [
    {
     "name": "stdout",
     "output_type": "stream",
     "text": [
      "<class 'pandas.core.frame.DataFrame'>\n",
      "Int64Index: 970938 entries, 0 to 970937\n",
      "Data columns (total 15 columns):\n",
      " #   Column                  Non-Null Count   Dtype         \n",
      "---  ------                  --------------   -----         \n",
      " 0   report_number           970938 non-null  object        \n",
      " 1   offense_id              970938 non-null  int64         \n",
      " 2   offense_start_datetime  969962 non-null  datetime64[ns]\n",
      " 3   offense_end_datetime    537164 non-null  datetime64[ns]\n",
      " 4   report_datetime         970938 non-null  datetime64[ns]\n",
      " 5   group_a_b               970938 non-null  object        \n",
      " 6   crime_against_category  970938 non-null  object        \n",
      " 7   offense_parent_group    970938 non-null  object        \n",
      " 8   offense_code            970938 non-null  object        \n",
      " 9   precinct                970934 non-null  object        \n",
      " 10  sector                  970936 non-null  object        \n",
      " 11  mcpp                    970938 non-null  object        \n",
      " 12  100_block_address       932129 non-null  object        \n",
      " 13  year                    969962 non-null  Int64         \n",
      " 14  hour                    969962 non-null  Int64         \n",
      "dtypes: Int64(2), datetime64[ns](3), int64(1), object(9)\n",
      "memory usage: 120.4+ MB\n"
     ]
    }
   ],
   "source": [
    "data.info()"
   ]
  },
  {
   "cell_type": "code",
   "execution_count": 15,
   "id": "5f5c89b8",
   "metadata": {},
   "outputs": [
    {
     "data": {
      "text/html": [
       "<div>\n",
       "<style scoped>\n",
       "    .dataframe tbody tr th:only-of-type {\n",
       "        vertical-align: middle;\n",
       "    }\n",
       "\n",
       "    .dataframe tbody tr th {\n",
       "        vertical-align: top;\n",
       "    }\n",
       "\n",
       "    .dataframe thead th {\n",
       "        text-align: right;\n",
       "    }\n",
       "</style>\n",
       "<table border=\"1\" class=\"dataframe\">\n",
       "  <thead>\n",
       "    <tr style=\"text-align: right;\">\n",
       "      <th></th>\n",
       "      <th>report_number</th>\n",
       "      <th>offense_id</th>\n",
       "      <th>offense_start_datetime</th>\n",
       "      <th>offense_end_datetime</th>\n",
       "      <th>report_datetime</th>\n",
       "      <th>group_a_b</th>\n",
       "      <th>crime_against_category</th>\n",
       "      <th>offense_parent_group</th>\n",
       "      <th>offense_code</th>\n",
       "      <th>precinct</th>\n",
       "      <th>sector</th>\n",
       "      <th>mcpp</th>\n",
       "      <th>100_block_address</th>\n",
       "      <th>year</th>\n",
       "      <th>hour</th>\n",
       "    </tr>\n",
       "  </thead>\n",
       "  <tbody>\n",
       "    <tr>\n",
       "      <th>0</th>\n",
       "      <td>2020-044620</td>\n",
       "      <td>12605873663</td>\n",
       "      <td>2020-02-05 10:10:00</td>\n",
       "      <td>NaT</td>\n",
       "      <td>2020-02-05 11:24:31</td>\n",
       "      <td>A</td>\n",
       "      <td>SOCIETY</td>\n",
       "      <td>DRUG/NARCOTIC OFFENSES</td>\n",
       "      <td>35A</td>\n",
       "      <td>W</td>\n",
       "      <td>Q</td>\n",
       "      <td>MAGNOLIA</td>\n",
       "      <td>32XX BLOCK OF 23RD AVE W</td>\n",
       "      <td>2020</td>\n",
       "      <td>10</td>\n",
       "    </tr>\n",
       "    <tr>\n",
       "      <th>1</th>\n",
       "      <td>2020-044452</td>\n",
       "      <td>12605598696</td>\n",
       "      <td>2020-02-03 08:00:00</td>\n",
       "      <td>2020-02-04 08:00:00</td>\n",
       "      <td>2020-02-05 10:06:28</td>\n",
       "      <td>A</td>\n",
       "      <td>PROPERTY</td>\n",
       "      <td>LARCENY-THEFT</td>\n",
       "      <td>23G</td>\n",
       "      <td>N</td>\n",
       "      <td>J</td>\n",
       "      <td>ROOSEVELT/RAVENNA</td>\n",
       "      <td>63XX BLOCK OF 5TH AVE NE</td>\n",
       "      <td>2020</td>\n",
       "      <td>8</td>\n",
       "    </tr>\n",
       "    <tr>\n",
       "      <th>2</th>\n",
       "      <td>2020-044465</td>\n",
       "      <td>12605567653</td>\n",
       "      <td>2020-02-02 20:30:00</td>\n",
       "      <td>2020-02-02 21:30:00</td>\n",
       "      <td>2020-02-05 09:39:33</td>\n",
       "      <td>A</td>\n",
       "      <td>PROPERTY</td>\n",
       "      <td>ROBBERY</td>\n",
       "      <td>120</td>\n",
       "      <td>N</td>\n",
       "      <td>U</td>\n",
       "      <td>ROOSEVELT/RAVENNA</td>\n",
       "      <td>26TH AVE NE / NE BLAKELEY ST</td>\n",
       "      <td>2020</td>\n",
       "      <td>20</td>\n",
       "    </tr>\n",
       "    <tr>\n",
       "      <th>3</th>\n",
       "      <td>2020-044225</td>\n",
       "      <td>12605174036</td>\n",
       "      <td>2020-02-05 01:17:00</td>\n",
       "      <td>2020-02-05 02:21:00</td>\n",
       "      <td>2020-02-05 03:30:55</td>\n",
       "      <td>A</td>\n",
       "      <td>PROPERTY</td>\n",
       "      <td>DESTRUCTION/DAMAGE/VANDALISM OF PROPERTY</td>\n",
       "      <td>290</td>\n",
       "      <td>W</td>\n",
       "      <td>Q</td>\n",
       "      <td>MAGNOLIA</td>\n",
       "      <td>22XX BLOCK OF W RAYE ST</td>\n",
       "      <td>2020</td>\n",
       "      <td>1</td>\n",
       "    </tr>\n",
       "    <tr>\n",
       "      <th>4</th>\n",
       "      <td>2020-044076</td>\n",
       "      <td>12605081469</td>\n",
       "      <td>2020-02-05 00:51:21</td>\n",
       "      <td>NaT</td>\n",
       "      <td>2020-02-05 00:51:31</td>\n",
       "      <td>B</td>\n",
       "      <td>SOCIETY</td>\n",
       "      <td>DRIVING UNDER THE INFLUENCE</td>\n",
       "      <td>90D</td>\n",
       "      <td>N</td>\n",
       "      <td>B</td>\n",
       "      <td>BALLARD SOUTH</td>\n",
       "      <td>NW 46TH ST / 8TH AVE NW</td>\n",
       "      <td>2020</td>\n",
       "      <td>0</td>\n",
       "    </tr>\n",
       "  </tbody>\n",
       "</table>\n",
       "</div>"
      ],
      "text/plain": [
       "  report_number   offense_id offense_start_datetime offense_end_datetime  \\\n",
       "0   2020-044620  12605873663    2020-02-05 10:10:00                  NaT   \n",
       "1   2020-044452  12605598696    2020-02-03 08:00:00  2020-02-04 08:00:00   \n",
       "2   2020-044465  12605567653    2020-02-02 20:30:00  2020-02-02 21:30:00   \n",
       "3   2020-044225  12605174036    2020-02-05 01:17:00  2020-02-05 02:21:00   \n",
       "4   2020-044076  12605081469    2020-02-05 00:51:21                  NaT   \n",
       "\n",
       "      report_datetime group_a_b crime_against_category  \\\n",
       "0 2020-02-05 11:24:31         A                SOCIETY   \n",
       "1 2020-02-05 10:06:28         A               PROPERTY   \n",
       "2 2020-02-05 09:39:33         A               PROPERTY   \n",
       "3 2020-02-05 03:30:55         A               PROPERTY   \n",
       "4 2020-02-05 00:51:31         B                SOCIETY   \n",
       "\n",
       "                       offense_parent_group offense_code precinct sector  \\\n",
       "0                    DRUG/NARCOTIC OFFENSES          35A        W      Q   \n",
       "1                             LARCENY-THEFT          23G        N      J   \n",
       "2                                   ROBBERY          120        N      U   \n",
       "3  DESTRUCTION/DAMAGE/VANDALISM OF PROPERTY          290        W      Q   \n",
       "4               DRIVING UNDER THE INFLUENCE          90D        N      B   \n",
       "\n",
       "                mcpp             100_block_address  year  hour  \n",
       "0           MAGNOLIA      32XX BLOCK OF 23RD AVE W  2020    10  \n",
       "1  ROOSEVELT/RAVENNA      63XX BLOCK OF 5TH AVE NE  2020     8  \n",
       "2  ROOSEVELT/RAVENNA  26TH AVE NE / NE BLAKELEY ST  2020    20  \n",
       "3           MAGNOLIA       22XX BLOCK OF W RAYE ST  2020     1  \n",
       "4      BALLARD SOUTH       NW 46TH ST / 8TH AVE NW  2020     0  "
      ]
     },
     "execution_count": 15,
     "metadata": {},
     "output_type": "execute_result"
    }
   ],
   "source": [
    "data.head()"
   ]
  },
  {
   "cell_type": "markdown",
   "id": "99b4367c",
   "metadata": {},
   "source": [
    "CHECKING FOR MISSING VALUES/NULL VALUES"
   ]
  },
  {
   "cell_type": "code",
   "execution_count": 16,
   "id": "6fac461b",
   "metadata": {},
   "outputs": [
    {
     "data": {
      "text/html": [
       "<div>\n",
       "<style scoped>\n",
       "    .dataframe tbody tr th:only-of-type {\n",
       "        vertical-align: middle;\n",
       "    }\n",
       "\n",
       "    .dataframe tbody tr th {\n",
       "        vertical-align: top;\n",
       "    }\n",
       "\n",
       "    .dataframe thead th {\n",
       "        text-align: right;\n",
       "    }\n",
       "</style>\n",
       "<table border=\"1\" class=\"dataframe\">\n",
       "  <thead>\n",
       "    <tr style=\"text-align: right;\">\n",
       "      <th></th>\n",
       "      <th>report_number</th>\n",
       "      <th>offense_id</th>\n",
       "      <th>offense_start_datetime</th>\n",
       "      <th>offense_end_datetime</th>\n",
       "      <th>report_datetime</th>\n",
       "      <th>group_a_b</th>\n",
       "      <th>crime_against_category</th>\n",
       "      <th>offense_parent_group</th>\n",
       "      <th>offense_code</th>\n",
       "      <th>precinct</th>\n",
       "      <th>sector</th>\n",
       "      <th>mcpp</th>\n",
       "      <th>100_block_address</th>\n",
       "      <th>year</th>\n",
       "      <th>hour</th>\n",
       "    </tr>\n",
       "  </thead>\n",
       "  <tbody>\n",
       "    <tr>\n",
       "      <th>0</th>\n",
       "      <td>False</td>\n",
       "      <td>False</td>\n",
       "      <td>False</td>\n",
       "      <td>True</td>\n",
       "      <td>False</td>\n",
       "      <td>False</td>\n",
       "      <td>False</td>\n",
       "      <td>False</td>\n",
       "      <td>False</td>\n",
       "      <td>False</td>\n",
       "      <td>False</td>\n",
       "      <td>False</td>\n",
       "      <td>False</td>\n",
       "      <td>False</td>\n",
       "      <td>False</td>\n",
       "    </tr>\n",
       "    <tr>\n",
       "      <th>1</th>\n",
       "      <td>False</td>\n",
       "      <td>False</td>\n",
       "      <td>False</td>\n",
       "      <td>False</td>\n",
       "      <td>False</td>\n",
       "      <td>False</td>\n",
       "      <td>False</td>\n",
       "      <td>False</td>\n",
       "      <td>False</td>\n",
       "      <td>False</td>\n",
       "      <td>False</td>\n",
       "      <td>False</td>\n",
       "      <td>False</td>\n",
       "      <td>False</td>\n",
       "      <td>False</td>\n",
       "    </tr>\n",
       "    <tr>\n",
       "      <th>2</th>\n",
       "      <td>False</td>\n",
       "      <td>False</td>\n",
       "      <td>False</td>\n",
       "      <td>False</td>\n",
       "      <td>False</td>\n",
       "      <td>False</td>\n",
       "      <td>False</td>\n",
       "      <td>False</td>\n",
       "      <td>False</td>\n",
       "      <td>False</td>\n",
       "      <td>False</td>\n",
       "      <td>False</td>\n",
       "      <td>False</td>\n",
       "      <td>False</td>\n",
       "      <td>False</td>\n",
       "    </tr>\n",
       "    <tr>\n",
       "      <th>3</th>\n",
       "      <td>False</td>\n",
       "      <td>False</td>\n",
       "      <td>False</td>\n",
       "      <td>False</td>\n",
       "      <td>False</td>\n",
       "      <td>False</td>\n",
       "      <td>False</td>\n",
       "      <td>False</td>\n",
       "      <td>False</td>\n",
       "      <td>False</td>\n",
       "      <td>False</td>\n",
       "      <td>False</td>\n",
       "      <td>False</td>\n",
       "      <td>False</td>\n",
       "      <td>False</td>\n",
       "    </tr>\n",
       "    <tr>\n",
       "      <th>4</th>\n",
       "      <td>False</td>\n",
       "      <td>False</td>\n",
       "      <td>False</td>\n",
       "      <td>True</td>\n",
       "      <td>False</td>\n",
       "      <td>False</td>\n",
       "      <td>False</td>\n",
       "      <td>False</td>\n",
       "      <td>False</td>\n",
       "      <td>False</td>\n",
       "      <td>False</td>\n",
       "      <td>False</td>\n",
       "      <td>False</td>\n",
       "      <td>False</td>\n",
       "      <td>False</td>\n",
       "    </tr>\n",
       "    <tr>\n",
       "      <th>...</th>\n",
       "      <td>...</td>\n",
       "      <td>...</td>\n",
       "      <td>...</td>\n",
       "      <td>...</td>\n",
       "      <td>...</td>\n",
       "      <td>...</td>\n",
       "      <td>...</td>\n",
       "      <td>...</td>\n",
       "      <td>...</td>\n",
       "      <td>...</td>\n",
       "      <td>...</td>\n",
       "      <td>...</td>\n",
       "      <td>...</td>\n",
       "      <td>...</td>\n",
       "      <td>...</td>\n",
       "    </tr>\n",
       "    <tr>\n",
       "      <th>970933</th>\n",
       "      <td>False</td>\n",
       "      <td>False</td>\n",
       "      <td>False</td>\n",
       "      <td>True</td>\n",
       "      <td>False</td>\n",
       "      <td>False</td>\n",
       "      <td>False</td>\n",
       "      <td>False</td>\n",
       "      <td>False</td>\n",
       "      <td>False</td>\n",
       "      <td>False</td>\n",
       "      <td>False</td>\n",
       "      <td>False</td>\n",
       "      <td>False</td>\n",
       "      <td>False</td>\n",
       "    </tr>\n",
       "    <tr>\n",
       "      <th>970934</th>\n",
       "      <td>False</td>\n",
       "      <td>False</td>\n",
       "      <td>False</td>\n",
       "      <td>False</td>\n",
       "      <td>False</td>\n",
       "      <td>False</td>\n",
       "      <td>False</td>\n",
       "      <td>False</td>\n",
       "      <td>False</td>\n",
       "      <td>False</td>\n",
       "      <td>False</td>\n",
       "      <td>False</td>\n",
       "      <td>False</td>\n",
       "      <td>False</td>\n",
       "      <td>False</td>\n",
       "    </tr>\n",
       "    <tr>\n",
       "      <th>970935</th>\n",
       "      <td>False</td>\n",
       "      <td>False</td>\n",
       "      <td>False</td>\n",
       "      <td>True</td>\n",
       "      <td>False</td>\n",
       "      <td>False</td>\n",
       "      <td>False</td>\n",
       "      <td>False</td>\n",
       "      <td>False</td>\n",
       "      <td>False</td>\n",
       "      <td>False</td>\n",
       "      <td>False</td>\n",
       "      <td>False</td>\n",
       "      <td>False</td>\n",
       "      <td>False</td>\n",
       "    </tr>\n",
       "    <tr>\n",
       "      <th>970936</th>\n",
       "      <td>False</td>\n",
       "      <td>False</td>\n",
       "      <td>False</td>\n",
       "      <td>True</td>\n",
       "      <td>False</td>\n",
       "      <td>False</td>\n",
       "      <td>False</td>\n",
       "      <td>False</td>\n",
       "      <td>False</td>\n",
       "      <td>False</td>\n",
       "      <td>False</td>\n",
       "      <td>False</td>\n",
       "      <td>False</td>\n",
       "      <td>False</td>\n",
       "      <td>False</td>\n",
       "    </tr>\n",
       "    <tr>\n",
       "      <th>970937</th>\n",
       "      <td>False</td>\n",
       "      <td>False</td>\n",
       "      <td>False</td>\n",
       "      <td>False</td>\n",
       "      <td>False</td>\n",
       "      <td>False</td>\n",
       "      <td>False</td>\n",
       "      <td>False</td>\n",
       "      <td>False</td>\n",
       "      <td>False</td>\n",
       "      <td>False</td>\n",
       "      <td>False</td>\n",
       "      <td>False</td>\n",
       "      <td>False</td>\n",
       "      <td>False</td>\n",
       "    </tr>\n",
       "  </tbody>\n",
       "</table>\n",
       "<p>970938 rows × 15 columns</p>\n",
       "</div>"
      ],
      "text/plain": [
       "        report_number  offense_id  offense_start_datetime  \\\n",
       "0               False       False                   False   \n",
       "1               False       False                   False   \n",
       "2               False       False                   False   \n",
       "3               False       False                   False   \n",
       "4               False       False                   False   \n",
       "...               ...         ...                     ...   \n",
       "970933          False       False                   False   \n",
       "970934          False       False                   False   \n",
       "970935          False       False                   False   \n",
       "970936          False       False                   False   \n",
       "970937          False       False                   False   \n",
       "\n",
       "        offense_end_datetime  report_datetime  group_a_b  \\\n",
       "0                       True            False      False   \n",
       "1                      False            False      False   \n",
       "2                      False            False      False   \n",
       "3                      False            False      False   \n",
       "4                       True            False      False   \n",
       "...                      ...              ...        ...   \n",
       "970933                  True            False      False   \n",
       "970934                 False            False      False   \n",
       "970935                  True            False      False   \n",
       "970936                  True            False      False   \n",
       "970937                 False            False      False   \n",
       "\n",
       "        crime_against_category  offense_parent_group  offense_code  precinct  \\\n",
       "0                        False                 False         False     False   \n",
       "1                        False                 False         False     False   \n",
       "2                        False                 False         False     False   \n",
       "3                        False                 False         False     False   \n",
       "4                        False                 False         False     False   \n",
       "...                        ...                   ...           ...       ...   \n",
       "970933                   False                 False         False     False   \n",
       "970934                   False                 False         False     False   \n",
       "970935                   False                 False         False     False   \n",
       "970936                   False                 False         False     False   \n",
       "970937                   False                 False         False     False   \n",
       "\n",
       "        sector   mcpp  100_block_address   year   hour  \n",
       "0        False  False              False  False  False  \n",
       "1        False  False              False  False  False  \n",
       "2        False  False              False  False  False  \n",
       "3        False  False              False  False  False  \n",
       "4        False  False              False  False  False  \n",
       "...        ...    ...                ...    ...    ...  \n",
       "970933   False  False              False  False  False  \n",
       "970934   False  False              False  False  False  \n",
       "970935   False  False              False  False  False  \n",
       "970936   False  False              False  False  False  \n",
       "970937   False  False              False  False  False  \n",
       "\n",
       "[970938 rows x 15 columns]"
      ]
     },
     "execution_count": 16,
     "metadata": {},
     "output_type": "execute_result"
    }
   ],
   "source": [
    "#checking for missing values\n",
    "data.isnull()"
   ]
  },
  {
   "cell_type": "code",
   "execution_count": 17,
   "id": "71d43eae",
   "metadata": {},
   "outputs": [
    {
     "data": {
      "text/plain": [
       "report_number                  0\n",
       "offense_id                     0\n",
       "offense_start_datetime       976\n",
       "offense_end_datetime      433774\n",
       "report_datetime                0\n",
       "group_a_b                      0\n",
       "crime_against_category         0\n",
       "offense_parent_group           0\n",
       "offense_code                   0\n",
       "precinct                       4\n",
       "sector                         2\n",
       "mcpp                           0\n",
       "100_block_address          38809\n",
       "year                         976\n",
       "hour                         976\n",
       "dtype: int64"
      ]
     },
     "execution_count": 17,
     "metadata": {},
     "output_type": "execute_result"
    }
   ],
   "source": [
    "data.isnull().sum()"
   ]
  },
  {
   "cell_type": "markdown",
   "id": "d582e86f",
   "metadata": {},
   "source": [
    "Filling the Nan values with \"Not Available\""
   ]
  },
  {
   "cell_type": "code",
   "execution_count": 18,
   "id": "f1b05a9f",
   "metadata": {},
   "outputs": [
    {
     "data": {
      "text/plain": [
       "0            32XX BLOCK OF 23RD AVE W\n",
       "1            63XX BLOCK OF 5TH AVE NE\n",
       "2        26TH AVE NE / NE BLAKELEY ST\n",
       "3             22XX BLOCK OF W RAYE ST\n",
       "4             NW 46TH ST / 8TH AVE NW\n",
       "5               14XX BLOCK OF 2ND AVE\n",
       "6       71XX BLOCK OF GREENWOOD AVE N\n",
       "7          26XX BLOCK OF SW BARTON ST\n",
       "8            15TH AVE NE / NE 95TH ST\n",
       "9              15XX BLOCK OF 12TH AVE\n",
       "10             15XX BLOCK OF BROADWAY\n",
       "11           45XX BLOCK OF 7TH AVE NE\n",
       "12                      NOT AVAILABLE\n",
       "13                      NOT AVAILABLE\n",
       "14           19XX BLOCK OF 13TH AVE S\n",
       "15            1XX BLOCK OF BROADWAY E\n",
       "16             E SPRING ST / 12TH AVE\n",
       "17         67XX BLOCK OF CORSON AVE S\n",
       "18    45XX BLOCK OF UNIVERSITY WAY NE\n",
       "19             5XX BLOCK OF 4TH AVE W\n",
       "20           S SPOKANE ST / 2ND AVE S\n",
       "21               4XX BLOCK OF 3RD AVE\n",
       "22             1XX BLOCK OF DENNY WAY\n",
       "23            13XX BLOCK OF 4TH AVE W\n",
       "24             11XX BLOCK OF 18TH AVE\n",
       "Name: 100_block_address, dtype: object"
      ]
     },
     "execution_count": 18,
     "metadata": {},
     "output_type": "execute_result"
    }
   ],
   "source": [
    "data['100_block_address'] = data['100_block_address'].fillna('NOT AVAILABLE')\n",
    "data['100_block_address'].head(25)"
   ]
  },
  {
   "cell_type": "code",
   "execution_count": 19,
   "id": "4d86cd11",
   "metadata": {},
   "outputs": [
    {
     "data": {
      "text/plain": [
       "0"
      ]
     },
     "execution_count": 19,
     "metadata": {},
     "output_type": "execute_result"
    }
   ],
   "source": [
    "data['100_block_address'].isnull().sum()"
   ]
  },
  {
   "cell_type": "markdown",
   "id": "56bd81aa",
   "metadata": {},
   "source": [
    "# Plotting the datetime datatype columns using histogram"
   ]
  },
  {
   "cell_type": "code",
   "execution_count": 20,
   "id": "97587bbe",
   "metadata": {},
   "outputs": [],
   "source": [
    "data_cat=data.select_dtypes(include=['datetime'])"
   ]
  },
  {
   "cell_type": "code",
   "execution_count": 21,
   "id": "865b10e1",
   "metadata": {},
   "outputs": [
    {
     "data": {
      "text/plain": [
       "array([[<AxesSubplot:title={'center':'offense_start_datetime'}>,\n",
       "        <AxesSubplot:title={'center':'offense_end_datetime'}>],\n",
       "       [<AxesSubplot:title={'center':'report_datetime'}>, <AxesSubplot:>]],\n",
       "      dtype=object)"
      ]
     },
     "execution_count": 21,
     "metadata": {},
     "output_type": "execute_result"
    },
    {
     "data": {
      "image/png": "[encoded data removed]",
      "text/plain": [
       "<Figure size 432x288 with 4 Axes>"
      ]
     },
     "metadata": {
      "needs_background": "light"
     },
     "output_type": "display_data"
    }
   ],
   "source": [
    "data_cat.hist(bins=20)"
   ]
  },
  {
   "cell_type": "markdown",
   "id": "5b2cf339",
   "metadata": {},
   "source": [
    "# Checking for the nulls using Heatmap from which we can observe that offense_end_datetime has more null values"
   ]
  },
  {
   "cell_type": "code",
   "execution_count": 22,
   "id": "d985c7b6",
   "metadata": {},
   "outputs": [
    {
     "data": {
      "text/plain": [
       "<AxesSubplot:>"
      ]
     },
     "execution_count": 22,
     "metadata": {},
     "output_type": "execute_result"
    },
    {
     "data": {
      "image/png": "[encoded data removed]",
      "text/plain": [
       "<Figure size 432x288 with 2 Axes>"
      ]
     },
     "metadata": {
      "needs_background": "light"
     },
     "output_type": "display_data"
    }
   ],
   "source": [
    "sns.heatmap(data.isnull(),yticklabels=False)"
   ]
  },
  {
   "cell_type": "markdown",
   "id": "5a958975",
   "metadata": {},
   "source": [
    "# From Below chart we can notice that \"Property\" Crime category has the highest crimes in the city of seattle followed by \"Person\""
   ]
  },
  {
   "cell_type": "code",
   "execution_count": 23,
   "id": "17412723",
   "metadata": {},
   "outputs": [
    {
     "data": {
      "text/plain": [
       "<AxesSubplot:xlabel='crime_against_category', ylabel='count'>"
      ]
     },
     "execution_count": 23,
     "metadata": {},
     "output_type": "execute_result"
    },
    {
     "data": {
      "image/png": "[encoded data removed]",
      "text/plain": [
       "<Figure size 432x288 with 1 Axes>"
      ]
     },
     "metadata": {
      "needs_background": "light"
     },
     "output_type": "display_data"
    }
   ],
   "source": [
    "sns.countplot(x='crime_against_category',data=data)"
   ]
  },
  {
   "cell_type": "markdown",
   "id": "19eff06e",
   "metadata": {},
   "source": [
    "# From the given two groups A and B we can say that A group in Property category has highest crime rate compared to B group and rest all categories."
   ]
  },
  {
   "cell_type": "code",
   "execution_count": 24,
   "id": "a3c22cec",
   "metadata": {},
   "outputs": [
    {
     "data": {
      "text/plain": [
       "<AxesSubplot:xlabel='crime_against_category', ylabel='count'>"
      ]
     },
     "execution_count": 24,
     "metadata": {},
     "output_type": "execute_result"
    },
    {
     "data": {
      "image/png": "[encoded data removed]",
      "text/plain": [
       "<Figure size 432x288 with 1 Axes>"
      ]
     },
     "metadata": {
      "needs_background": "light"
     },
     "output_type": "display_data"
    }
   ],
   "source": [
    "sns.countplot(x='crime_against_category',hue='group_a_b', data=data)"
   ]
  },
  {
   "cell_type": "markdown",
   "id": "fb2432e5",
   "metadata": {},
   "source": [
    "# From all the different offenses we can say from below graph that Drug/Narcotic offenses are more , followed by Burglary,Breaking and Entering. Whereas the least offense is Blackmail and pornography."
   ]
  },
  {
   "cell_type": "code",
   "execution_count": 25,
   "id": "d22c56ea",
   "metadata": {
    "scrolled": false
   },
   "outputs": [
    {
     "data": {
      "image/png": "[encoded data removed]",
      "text/plain": [
       "<Figure size 1152x720 with 1 Axes>"
      ]
     },
     "metadata": {
      "needs_background": "light"
     },
     "output_type": "display_data"
    }
   ],
   "source": [
    "plt.figure(figsize=(16,10))\n",
    "data['offense_parent_group'].hist(bins=30,color='red')\n",
    "plt.xticks(rotation=90)\n",
    "plt.show()\n"
   ]
  },
  {
   "cell_type": "markdown",
   "id": "60a184a6",
   "metadata": {},
   "source": [
    "# The micro community policing plans are more in Ballard south followed by capital hall place , whereas less in commercial harbour island"
   ]
  },
  {
   "cell_type": "code",
   "execution_count": 26,
   "id": "6ffa5996",
   "metadata": {
    "scrolled": false
   },
   "outputs": [
    {
     "data": {
      "text/plain": [
       "(array([ 0,  1,  2,  3,  4,  5,  6,  7,  8,  9, 10, 11, 12, 13, 14, 15, 16,\n",
       "        17, 18, 19, 20, 21, 22, 23, 24, 25, 26, 27, 28, 29, 30, 31, 32, 33,\n",
       "        34, 35, 36, 37, 38, 39, 40, 41, 42, 43, 44, 45, 46, 47, 48, 49, 50,\n",
       "        51, 52, 53, 54, 55, 56, 57, 58]),\n",
       " [Text(0, 0, 'MAGNOLIA'),\n",
       "  Text(1, 0, 'ROOSEVELT/RAVENNA'),\n",
       "  Text(2, 0, 'BALLARD SOUTH'),\n",
       "  Text(3, 0, 'DOWNTOWN COMMERCIAL'),\n",
       "  Text(4, 0, 'PHINNEY RIDGE'),\n",
       "  Text(5, 0, 'ROXHILL/WESTWOOD/ARBOR HEIGHTS'),\n",
       "  Text(6, 0, 'NORTHGATE'),\n",
       "  Text(7, 0, 'CAPITOL HILL'),\n",
       "  Text(8, 0, 'UNIVERSITY'),\n",
       "  Text(9, 0, 'COLUMBIA CITY'),\n",
       "  Text(10, 0, 'NORTH BEACON HILL'),\n",
       "  Text(11, 0, 'FIRST HILL'),\n",
       "  Text(12, 0, 'GEORGETOWN'),\n",
       "  Text(13, 0, 'QUEEN ANNE'),\n",
       "  Text(14, 0, 'SODO'),\n",
       "  Text(15, 0, 'CENTRAL AREA/SQUIRE PARK'),\n",
       "  Text(16, 0, 'MID BEACON HILL'),\n",
       "  Text(17, 0, 'ALASKA JUNCTION'),\n",
       "  Text(18, 0, 'FREMONT'),\n",
       "  Text(19, 0, 'NORTH ADMIRAL'),\n",
       "  Text(20, 0, 'SLU/CASCADE'),\n",
       "  Text(21, 0, 'CHINATOWN/INTERNATIONAL DISTRICT'),\n",
       "  Text(22, 0, 'SANDPOINT'),\n",
       "  Text(23, 0, 'HILLMAN CITY'),\n",
       "  Text(24, 0, 'HIGH POINT'),\n",
       "  Text(25, 0, 'MOUNT BAKER'),\n",
       "  Text(26, 0, 'HIGHLAND PARK'),\n",
       "  Text(27, 0, 'BITTERLAKE'),\n",
       "  Text(28, 0, 'BELLTOWN'),\n",
       "  Text(29, 0, 'PIONEER SQUARE'),\n",
       "  Text(30, 0, 'JUDKINS PARK/NORTH BEACON HILL'),\n",
       "  Text(31, 0, 'MADRONA/LESCHI'),\n",
       "  Text(32, 0, 'MADISON PARK'),\n",
       "  Text(33, 0, 'NORTH DELRIDGE'),\n",
       "  Text(34, 0, 'CLAREMONT/RAINIER VISTA'),\n",
       "  Text(35, 0, 'RAINIER VIEW'),\n",
       "  Text(36, 0, 'MONTLAKE/PORTAGE BAY'),\n",
       "  Text(37, 0, 'LAKEWOOD/SEWARD PARK'),\n",
       "  Text(38, 0, 'SOUTH DELRIDGE'),\n",
       "  Text(39, 0, 'WALLINGFORD'),\n",
       "  Text(40, 0, 'SOUTH BEACON HILL'),\n",
       "  Text(41, 0, 'NEW HOLLY'),\n",
       "  Text(42, 0, 'GREENWOOD'),\n",
       "  Text(43, 0, 'BALLARD NORTH'),\n",
       "  Text(44, 0, 'PIGEON POINT'),\n",
       "  Text(45, 0, 'MORGAN'),\n",
       "  Text(46, 0, 'BRIGHTON/DUNLAP'),\n",
       "  Text(47, 0, 'MILLER PARK'),\n",
       "  Text(48, 0, 'EASTLAKE - WEST'),\n",
       "  Text(49, 0, 'RAINIER BEACH'),\n",
       "  Text(50, 0, 'SOUTH PARK'),\n",
       "  Text(51, 0, 'ALKI'),\n",
       "  Text(52, 0, 'FAUNTLEROY SW'),\n",
       "  Text(53, 0, 'GENESEE'),\n",
       "  Text(54, 0, 'COMMERCIAL HARBOR ISLAND'),\n",
       "  Text(55, 0, 'EASTLAKE - EAST'),\n",
       "  Text(56, 0, 'COMMERCIAL DUWAMISH'),\n",
       "  Text(57, 0, 'UNKNOWN'),\n",
       "  Text(58, 0, 'LAKECITY')])"
      ]
     },
     "execution_count": 26,
     "metadata": {},
     "output_type": "execute_result"
    },
    {
     "data": {
      "image/png": "[encoded data removed]",
      "text/plain": [
       "<Figure size 1152x720 with 1 Axes>"
      ]
     },
     "metadata": {
      "needs_background": "light"
     },
     "output_type": "display_data"
    }
   ],
   "source": [
    "plt.figure(figsize=(16,10))\n",
    "sns.countplot(x='mcpp',data=data)\n",
    "plt.xticks(rotation=90)"
   ]
  },
  {
   "cell_type": "markdown",
   "id": "7f4d2618",
   "metadata": {},
   "source": [
    "# The most frequent category is “Property”. Luckily there are no crime at all in few places."
   ]
  },
  {
   "cell_type": "code",
   "execution_count": 28,
   "id": "1cb509b3",
   "metadata": {},
   "outputs": [
    {
     "data": {
      "text/plain": [
       "<AxesSubplot:xlabel='crime_against_category'>"
      ]
     },
     "execution_count": 28,
     "metadata": {},
     "output_type": "execute_result"
    },
    {
     "data": {
      "image/png": "[encoded data removed]",
      "text/plain": [
       "<Figure size 432x288 with 1 Axes>"
      ]
     },
     "metadata": {
      "needs_background": "light"
     },
     "output_type": "display_data"
    }
   ],
   "source": [
    "data.groupby('crime_against_category').agg({'offense_id':'count'}).sort_values(by='offense_id',ascending=False).plot(kind='line')"
   ]
  },
  {
   "cell_type": "markdown",
   "id": "7abc05fb",
   "metadata": {},
   "source": [
    "# Top 5 offenses\n"
   ]
  },
  {
   "cell_type": "markdown",
   "id": "a692c672",
   "metadata": {},
   "source": [
    "Basically first I have perform a groupby and got the count of each offense \n",
    "category-type combination. Then perform another groupby with offense category and \n",
    "use head() to get the top five offense types. Finally, presented the result by sorting."
   ]
  },
  {
   "cell_type": "code",
   "execution_count": 29,
   "id": "d0aa4124",
   "metadata": {},
   "outputs": [],
   "source": [
    "\n",
    "top5_offensetypes=data.groupby(['crime_against_category','offense_parent_group']).agg({'offense_id':'count'}).groupby(['crime_against_category']).head().sort_values(by=['crime_against_category','offense_id'],ascending=False)"
   ]
  },
  {
   "cell_type": "code",
   "execution_count": 30,
   "id": "80f2d4d1",
   "metadata": {},
   "outputs": [
    {
     "data": {
      "text/html": [
       "<div>\n",
       "<style scoped>\n",
       "    .dataframe tbody tr th:only-of-type {\n",
       "        vertical-align: middle;\n",
       "    }\n",
       "\n",
       "    .dataframe tbody tr th {\n",
       "        vertical-align: top;\n",
       "    }\n",
       "\n",
       "    .dataframe thead th {\n",
       "        text-align: right;\n",
       "    }\n",
       "</style>\n",
       "<table border=\"1\" class=\"dataframe\">\n",
       "  <thead>\n",
       "    <tr style=\"text-align: right;\">\n",
       "      <th></th>\n",
       "      <th></th>\n",
       "      <th>offense_id</th>\n",
       "    </tr>\n",
       "    <tr>\n",
       "      <th>crime_against_category</th>\n",
       "      <th>offense_parent_group</th>\n",
       "      <th></th>\n",
       "    </tr>\n",
       "  </thead>\n",
       "  <tbody>\n",
       "    <tr>\n",
       "      <th rowspan=\"5\" valign=\"top\">SOCIETY</th>\n",
       "      <th>DRUG/NARCOTIC OFFENSES</th>\n",
       "      <td>27086</td>\n",
       "    </tr>\n",
       "    <tr>\n",
       "      <th>DRIVING UNDER THE INFLUENCE</th>\n",
       "      <td>17197</td>\n",
       "    </tr>\n",
       "    <tr>\n",
       "      <th>CURFEW/LOITERING/VAGRANCY VIOLATIONS</th>\n",
       "      <td>897</td>\n",
       "    </tr>\n",
       "    <tr>\n",
       "      <th>ANIMAL CRUELTY</th>\n",
       "      <td>95</td>\n",
       "    </tr>\n",
       "    <tr>\n",
       "      <th>DRUNKENNESS</th>\n",
       "      <td>16</td>\n",
       "    </tr>\n",
       "    <tr>\n",
       "      <th rowspan=\"5\" valign=\"top\">PROPERTY</th>\n",
       "      <th>BURGLARY/BREAKING&amp;ENTERING</th>\n",
       "      <td>109104</td>\n",
       "    </tr>\n",
       "    <tr>\n",
       "      <th>BAD CHECKS</th>\n",
       "      <td>6644</td>\n",
       "    </tr>\n",
       "    <tr>\n",
       "      <th>COUNTERFEITING/FORGERY</th>\n",
       "      <td>5091</td>\n",
       "    </tr>\n",
       "    <tr>\n",
       "      <th>ARSON</th>\n",
       "      <td>1670</td>\n",
       "    </tr>\n",
       "    <tr>\n",
       "      <th>BRIBERY</th>\n",
       "      <td>16</td>\n",
       "    </tr>\n",
       "    <tr>\n",
       "      <th rowspan=\"5\" valign=\"top\">PERSON</th>\n",
       "      <th>ASSAULT OFFENSES</th>\n",
       "      <td>138575</td>\n",
       "    </tr>\n",
       "    <tr>\n",
       "      <th>SEX OFFENSES</th>\n",
       "      <td>6048</td>\n",
       "    </tr>\n",
       "    <tr>\n",
       "      <th>KIDNAPPING/ABDUCTION</th>\n",
       "      <td>1091</td>\n",
       "    </tr>\n",
       "    <tr>\n",
       "      <th>HOMICIDE OFFENSES</th>\n",
       "      <td>408</td>\n",
       "    </tr>\n",
       "    <tr>\n",
       "      <th>HUMAN TRAFFICKING</th>\n",
       "      <td>44</td>\n",
       "    </tr>\n",
       "    <tr>\n",
       "      <th>NOT_A_CRIME</th>\n",
       "      <th>HOMICIDE OFFENSES</th>\n",
       "      <td>30</td>\n",
       "    </tr>\n",
       "  </tbody>\n",
       "</table>\n",
       "</div>"
      ],
      "text/plain": [
       "                                                             offense_id\n",
       "crime_against_category offense_parent_group                            \n",
       "SOCIETY                DRUG/NARCOTIC OFFENSES                     27086\n",
       "                       DRIVING UNDER THE INFLUENCE                17197\n",
       "                       CURFEW/LOITERING/VAGRANCY VIOLATIONS         897\n",
       "                       ANIMAL CRUELTY                                95\n",
       "                       DRUNKENNESS                                   16\n",
       "PROPERTY               BURGLARY/BREAKING&ENTERING                109104\n",
       "                       BAD CHECKS                                  6644\n",
       "                       COUNTERFEITING/FORGERY                      5091\n",
       "                       ARSON                                       1670\n",
       "                       BRIBERY                                       16\n",
       "PERSON                 ASSAULT OFFENSES                          138575\n",
       "                       SEX OFFENSES                                6048\n",
       "                       KIDNAPPING/ABDUCTION                        1091\n",
       "                       HOMICIDE OFFENSES                            408\n",
       "                       HUMAN TRAFFICKING                             44\n",
       "NOT_A_CRIME            HOMICIDE OFFENSES                             30"
      ]
     },
     "execution_count": 30,
     "metadata": {},
     "output_type": "execute_result"
    }
   ],
   "source": [
    "top5_offensetypes"
   ]
  },
  {
   "cell_type": "code",
   "execution_count": 31,
   "id": "95822403",
   "metadata": {},
   "outputs": [
    {
     "data": {
      "text/plain": [
       "<AxesSubplot:xlabel='crime_against_category,offense_parent_group'>"
      ]
     },
     "execution_count": 31,
     "metadata": {},
     "output_type": "execute_result"
    },
    {
     "data": {
      "image/png": "[encoded data removed]",
      "text/plain": [
       "<Figure size 432x288 with 1 Axes>"
      ]
     },
     "metadata": {
      "needs_background": "light"
     },
     "output_type": "display_data"
    }
   ],
   "source": [
    "top5_offensetypes.plot(kind='bar')"
   ]
  },
  {
   "cell_type": "markdown",
   "id": "bd3bac56",
   "metadata": {},
   "source": [
    "# Most Reported Crimes During DayTime"
   ]
  },
  {
   "cell_type": "markdown",
   "id": "7c5c6aed",
   "metadata": {},
   "source": [
    "Somost reported crimes are during the daytime. I believe those crimes are just minor crimes."
   ]
  },
  {
   "cell_type": "code",
   "execution_count": 42,
   "id": "7cbe4ba3",
   "metadata": {},
   "outputs": [
    {
     "data": {
      "image/png": "[encoded data removed]",
      "text/plain": [
       "<Figure size 432x288 with 1 Axes>"
      ]
     },
     "metadata": {
      "needs_background": "light"
     },
     "output_type": "display_data"
    }
   ],
   "source": [
    "most_reported_crime_hour=data[data['hour'].isin([15,16,17,18])].groupby(['hour','offense_parent_group']).agg({'offense_id':'count'}).groupby(['hour']).head().sort_values(by=['hour','offense_id'],ascending = False).plot(kind='bar')"
   ]
  },
  {
   "cell_type": "markdown",
   "id": "2d40c006",
   "metadata": {},
   "source": [
    "# Year Vs Crime Category using Scatterplot"
   ]
  },
  {
   "cell_type": "code",
   "execution_count": 57,
   "id": "5e7cf045",
   "metadata": {},
   "outputs": [
    {
     "data": {
      "image/png": "[encoded data removed]",
      "text/plain": [
       "<Figure size 432x288 with 1 Axes>"
      ]
     },
     "metadata": {
      "needs_background": "light"
     },
     "output_type": "display_data"
    }
   ],
   "source": [
    "data.plot.scatter(x='year',y='crime_against_category')\n",
    "plt.show()"
   ]
  },
  {
   "cell_type": "code",
   "execution_count": null,
   "id": "8c5549fc",
   "metadata": {},
   "outputs": [],
   "source": []
  }
 ],
 "metadata": {
  "kernelspec": {
   "display_name": "Python 3 (ipykernel)",
   "language": "python",
   "name": "python3"
  },
  "language_info": {
   "codemirror_mode": {
    "name": "ipython",
    "version": 3
   },
   "file_extension": ".py",
   "mimetype": "text/x-python",
   "name": "python",
   "nbconvert_exporter": "python",
   "pygments_lexer": "ipython3",
   "version": "3.9.7"
  }
 },
 "nbformat": 4,
 "nbformat_minor": 5
}
